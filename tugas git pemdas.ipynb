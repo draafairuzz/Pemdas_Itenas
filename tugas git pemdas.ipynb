{
 "cells": [
  {
   "cell_type": "code",
   "execution_count": 1,
   "metadata": {},
   "outputs": [
    {
     "name": "stdout",
     "output_type": "stream",
     "text": [
      "    Nama  Usia   Gaji\n",
      "0   John    25  52500\n",
      "1   Jane    35  63000\n",
      "2    Bob    30  73500\n",
      "3  Alice    28  57750\n"
     ]
    }
   ],
   "source": [
    "import pandas as pd\n",
    "\n",
    "data = {'Nama': ['John', 'Jane', 'Bob', 'Alice'],\n",
    "        'Usia': [25, 35, 30, 28],\n",
    "        'Gaji': [50000, 60000, 70000, 55000]}\n",
    "\n",
    "df = pd.DataFrame(data)\n",
    "\n",
    "# Fungsi lambda untuk menghitung gaji setelah peningkatan 5%\n",
    "hitung_gaji = lambda gaji: gaji * 1.05\n",
    "\n",
    "# Loop for untuk menerapkan fungsi lambda pada setiap baris\n",
    "for index, row in df.iterrows():\n",
    "    df.at[index, 'Gaji'] = hitung_gaji(row['Gaji'])\n",
    "\n",
    "print(df)"
   ]
  },
  {
   "cell_type": "code",
   "execution_count": 2,
   "metadata": {},
   "outputs": [
    {
     "name": "stdout",
     "output_type": "stream",
     "text": [
      "DataFrame setelah diperbarui:\n",
      "    Nama  Usia   Gaji\n",
      "0   John    25  52500\n",
      "1   Jane    35  63000\n",
      "2    Bob    30  73500\n",
      "3  Alice    28  57750\n",
      "\n",
      "Ringkasan Perubahan:\n",
      "John - Gaji sebelum: 50000.00, Gaji setelah: 52500.00\n",
      "Jane - Gaji sebelum: 60000.00, Gaji setelah: 63000.00\n",
      "Bob - Gaji sebelum: 70000.00, Gaji setelah: 73500.00\n",
      "Alice - Gaji sebelum: 55000.00, Gaji setelah: 57750.00\n"
     ]
    }
   ],
   "source": [
    "import pandas as pd\n",
    "\n",
    "data = {'Nama': ['John', 'Jane', 'Bob', 'Alice'],\n",
    "        'Usia': [25, 35, 30, 28],\n",
    "        'Gaji': [50000, 60000, 70000, 55000]}\n",
    "\n",
    "df = pd.DataFrame(data)\n",
    "\n",
    "# Fungsi lambda untuk menghitung gaji setelah peningkatan 5%\n",
    "hitung_gaji = lambda gaji: gaji * 1.05\n",
    "\n",
    "# Loop for untuk menerapkan fungsi lambda pada setiap baris\n",
    "for index, row in df.iterrows():\n",
    "    df.at[index, 'Gaji'] = hitung_gaji(row['Gaji'])\n",
    "\n",
    "# Menampilkan DataFrame yang sudah diperbarui\n",
    "print(\"DataFrame setelah diperbarui:\")\n",
    "print(df)\n",
    "\n",
    "# Ringkasan perubahan\n",
    "print(\"\\nRingkasan Perubahan:\")\n",
    "for index, row in df.iterrows():\n",
    "    print(f\"{row['Nama']} - Gaji sebelum: {row['Gaji'] / 1.05:.2f}, Gaji setelah: {row['Gaji']:.2f}\")\n"
   ]
  },
  {
   "cell_type": "code",
   "execution_count": 13,
   "metadata": {},
   "outputs": [
    {
     "name": "stdout",
     "output_type": "stream",
     "text": [
      "DataFrame setelah diperbarui:\n",
      "    Nama  Usia   Gaji\n",
      "0   John    25  52500\n",
      "1   Jane    35  64260\n",
      "2    Bob    30  74970\n",
      "3  Alice    28  57750\n"
     ]
    }
   ],
   "source": [
    "import pandas as pd\n",
    "\n",
    "data = {'Nama': ['John', 'Jane', 'Bob', 'Alice'],\n",
    "        'Usia': [25, 35, 30, 28],\n",
    "        'Gaji': [50000, 60000, 70000, 55000]}\n",
    "\n",
    "df = pd.DataFrame(data)\n",
    "\n",
    "# Fungsi lambda untuk menghitung gaji setelah peningkatan 5%\n",
    "hitung_gaji = lambda gaji: gaji * 1.05\n",
    "\n",
    "# Loop for untuk menerapkan fungsi lambda pada setiap baris\n",
    "for index, row in df.iterrows():\n",
    "    # Peningkatan 5% untuk semua karyawan\n",
    "    df.at[index, 'Gaji'] = hitung_gaji(row['Gaji'])\n",
    "\n",
    "# Peningkatan tambahan 2% jika usia di atas 30 tahun\n",
    "peningkatan_gaji_tambahan = lambda x, usia: x * 1.02 if usia >= 30 else x\n",
    "\n",
    "for index, row in df.iterrows():\n",
    "    df.at[index, 'Gaji'] = peningkatan_gaji_tambahan(row['Gaji'], row['Usia'])\n",
    "\n",
    "# Menampilkan DataFrame yang sudah diperbarui\n",
    "print(\"DataFrame setelah diperbarui:\")\n",
    "print(df)\n"
   ]
  },
  {
   "cell_type": "code",
   "execution_count": 16,
   "metadata": {},
   "outputs": [
    {
     "name": "stdout",
     "output_type": "stream",
     "text": [
      "DataFrame setelah diperbarui:\n",
      "    Nama  Usia   Gaji\n",
      "0   John    25  52500\n",
      "1   Jane    35  64260\n",
      "2    Bob    30  74970\n",
      "3  Alice    28  57750\n",
      "\n",
      "Ringkasan Hasil:\n",
      "John - Gaji sebelum: 52500.0, Gaji setelah: 52500.00\n",
      "Jane - Gaji sebelum: 63000.0, Gaji setelah: 64260.00\n",
      "Bob - Gaji sebelum: 73500.0, Gaji setelah: 74970.00\n",
      "Alice - Gaji sebelum: 57750.0, Gaji setelah: 57750.00\n"
     ]
    }
   ],
   "source": [
    "import pandas as pd\n",
    "\n",
    "data = {'Nama': ['John', 'Jane', 'Bob', 'Alice'],\n",
    "        'Usia': [25, 35, 30, 28],\n",
    "        'Gaji': [50000, 60000, 70000, 55000]}\n",
    "\n",
    "df = pd.DataFrame(data)\n",
    "\n",
    "# Fungsi lambda untuk menghitung gaji setelah peningkatan 5%\n",
    "hitung_gaji = lambda gaji: gaji * 1.05\n",
    "\n",
    "# Loop for untuk menerapkan fungsi lambda pada setiap baris\n",
    "for index, row in df.iterrows():\n",
    "    # Peningkatan 5% untuk semua karyawan\n",
    "    df.at[index, 'Gaji'] = hitung_gaji(row['Gaji'])\n",
    "\n",
    "    # Peningkatan tambahan 2% jika usia di atas 30 tahun\n",
    "    if row['Usia'] >= 30:\n",
    "        df.at[index, 'Gaji'] *= 1.02\n",
    "\n",
    "# Menampilkan DataFrame yang sudah diperbarui\n",
    "print(\"DataFrame setelah diperbarui:\")\n",
    "print(df)\n",
    "\n",
    "# Ringkasan hasil\n",
    "print(\"\\nRingkasan Hasil:\")\n",
    "for index, row in df.iterrows():\n",
    "    print(f\"{row['Nama']} - Gaji sebelum: {hitung_gaji(data['Gaji'][index])}, Gaji setelah: {row['Gaji']:.2f}\")\n"
   ]
  },
  {
   "cell_type": "markdown",
   "metadata": {},
   "source": []
  }
 ],
 "metadata": {
  "kernelspec": {
   "display_name": "Python 3",
   "language": "python",
   "name": "python3"
  },
  "language_info": {
   "codemirror_mode": {
    "name": "ipython",
    "version": 3
   },
   "file_extension": ".py",
   "mimetype": "text/x-python",
   "name": "python",
   "nbconvert_exporter": "python",
   "pygments_lexer": "ipython3",
   "version": "3.11.5"
  }
 },
 "nbformat": 4,
 "nbformat_minor": 2
}
